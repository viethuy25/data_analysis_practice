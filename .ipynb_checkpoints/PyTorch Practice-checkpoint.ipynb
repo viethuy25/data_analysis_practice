{
 "cells": [
  {
   "cell_type": "code",
   "execution_count": 1,
   "id": "82c19350",
   "metadata": {},
   "outputs": [],
   "source": [
    "import torch\n",
    "import pandas as pd\n",
    "import numpy as np\n",
    "import matplotlib.pyplot as plt"
   ]
  },
  {
   "cell_type": "markdown",
   "id": "19cecd71",
   "metadata": {},
   "source": [
    "# Tensor basic"
   ]
  },
  {
   "cell_type": "code",
   "execution_count": 2,
   "id": "13a64fc6",
   "metadata": {},
   "outputs": [
    {
     "data": {
      "text/plain": [
       "tensor(7)"
      ]
     },
     "execution_count": 2,
     "metadata": {},
     "output_type": "execute_result"
    }
   ],
   "source": [
    "# scalar\n",
    "scalar = torch.tensor(7)\n",
    "scalar"
   ]
  },
  {
   "cell_type": "code",
   "execution_count": 3,
   "id": "690c8c88",
   "metadata": {},
   "outputs": [
    {
     "data": {
      "text/plain": [
       "7"
      ]
     },
     "execution_count": 3,
     "metadata": {},
     "output_type": "execute_result"
    }
   ],
   "source": [
    "scalar_temp = scalar.item()\n",
    "scalar_temp"
   ]
  },
  {
   "cell_type": "code",
   "execution_count": 4,
   "id": "a2b22c73",
   "metadata": {},
   "outputs": [
    {
     "data": {
      "text/plain": [
       "tensor([7, 7])"
      ]
     },
     "execution_count": 4,
     "metadata": {},
     "output_type": "execute_result"
    }
   ],
   "source": [
    "# vector\n",
    "vector = torch.tensor([7,7])\n",
    "vector"
   ]
  },
  {
   "cell_type": "code",
   "execution_count": 5,
   "id": "7ac63726",
   "metadata": {},
   "outputs": [
    {
     "data": {
      "text/plain": [
       "tensor([[7, 8],\n",
       "        [5, 6]])"
      ]
     },
     "execution_count": 5,
     "metadata": {},
     "output_type": "execute_result"
    }
   ],
   "source": [
    "# matrix\n",
    "MATRIX = torch.tensor([[7,8],\n",
    "                     [5,6]])\n",
    "\n",
    "MATRIX"
   ]
  },
  {
   "cell_type": "code",
   "execution_count": 6,
   "id": "576624a4",
   "metadata": {},
   "outputs": [
    {
     "data": {
      "text/plain": [
       "tensor([[[7, 8],\n",
       "         [5, 6],\n",
       "         [1, 2]]])"
      ]
     },
     "execution_count": 6,
     "metadata": {},
     "output_type": "execute_result"
    }
   ],
   "source": [
    "# tensor\n",
    "TENSOR = torch.tensor([[[7,8],\n",
    "                        [5,6],\n",
    "                        [1,2]]])\n",
    "\n",
    "TENSOR"
   ]
  },
  {
   "cell_type": "markdown",
   "id": "060879a8",
   "metadata": {},
   "source": [
    "# Tensor datatypes"
   ]
  },
  {
   "cell_type": "code",
   "execution_count": 7,
   "id": "96dfb60c",
   "metadata": {},
   "outputs": [
    {
     "data": {
      "text/plain": [
       "tensor([3.0000, 6.1000, 9.6000])"
      ]
     },
     "execution_count": 7,
     "metadata": {},
     "output_type": "execute_result"
    }
   ],
   "source": [
    "float_32_tensor = torch.tensor([3.0, 6.1, 9.6],\n",
    "                              dtype = None,\n",
    "                              device = None,\n",
    "                              requires_grad = False)\n",
    "\n",
    "float_32_tensor"
   ]
  },
  {
   "cell_type": "code",
   "execution_count": 8,
   "id": "7e264e7c",
   "metadata": {},
   "outputs": [
    {
     "data": {
      "text/plain": [
       "torch.float32"
      ]
     },
     "execution_count": 8,
     "metadata": {},
     "output_type": "execute_result"
    }
   ],
   "source": [
    "float_32_tensor.dtype"
   ]
  },
  {
   "cell_type": "code",
   "execution_count": 9,
   "id": "a22986e2",
   "metadata": {},
   "outputs": [
    {
     "data": {
      "text/plain": [
       "tensor([3.0000, 6.1000, 9.6000], dtype=torch.float64)"
      ]
     },
     "execution_count": 9,
     "metadata": {},
     "output_type": "execute_result"
    }
   ],
   "source": [
    "float_64_tensor = torch.tensor([3.0, 6.1, 9.6],\n",
    "                              dtype = float,\n",
    "                              device = None,\n",
    "                              requires_grad = False)\n",
    "\n",
    "float_64_tensor"
   ]
  },
  {
   "cell_type": "code",
   "execution_count": 10,
   "id": "f65f94ea",
   "metadata": {},
   "outputs": [
    {
     "data": {
      "text/plain": [
       "tensor([3.0000, 6.1016, 9.6016], dtype=torch.float16)"
      ]
     },
     "execution_count": 10,
     "metadata": {},
     "output_type": "execute_result"
    }
   ],
   "source": [
    "# Casting\n",
    "float_16_tensor = float_32_tensor.type(torch.float16)\n",
    "float_16_tensor"
   ]
  },
  {
   "cell_type": "code",
   "execution_count": 11,
   "id": "93dfc06e",
   "metadata": {},
   "outputs": [
    {
     "data": {
      "text/plain": [
       "tensor([ 9.0000, 37.2195, 92.1750])"
      ]
     },
     "execution_count": 11,
     "metadata": {},
     "output_type": "execute_result"
    }
   ],
   "source": [
    "temp_float = float_16_tensor * float_32_tensor\n",
    "temp_float"
   ]
  },
  {
   "cell_type": "code",
   "execution_count": 12,
   "id": "4621e011",
   "metadata": {},
   "outputs": [
    {
     "data": {
      "text/plain": [
       "tensor([1, 2, 3], dtype=torch.int32)"
      ]
     },
     "execution_count": 12,
     "metadata": {},
     "output_type": "execute_result"
    }
   ],
   "source": [
    "int_32_tensor = torch.tensor([1, 2, 3], dtype= torch.int32)\n",
    "int_32_tensor"
   ]
  },
  {
   "cell_type": "code",
   "execution_count": 13,
   "id": "86deba32",
   "metadata": {},
   "outputs": [
    {
     "data": {
      "text/plain": [
       "tensor([ 3.0000, 12.2000, 28.8000])"
      ]
     },
     "execution_count": 13,
     "metadata": {},
     "output_type": "execute_result"
    }
   ],
   "source": [
    "int_32_tensor * float_32_tensor"
   ]
  },
  {
   "cell_type": "markdown",
   "id": "9f614b94",
   "metadata": {},
   "source": [
    "1) Tensor not right datatype --> tensor.dtype\n",
    "\n",
    "\n",
    "2) Tensor not right shape --> tensor.shape\n",
    "\n",
    "\n",
    "3) Tensor not right device --> tensor.device"
   ]
  },
  {
   "cell_type": "markdown",
   "id": "f4104563",
   "metadata": {},
   "source": [
    "# Matrix Multiplication NEEDS TO BE THE SAME DTYPE"
   ]
  },
  {
   "cell_type": "markdown",
   "id": "c35b0257",
   "metadata": {},
   "source": [
    "matmul is 10x faster than doing array[i] * array[i] manually"
   ]
  },
  {
   "cell_type": "code",
   "execution_count": 14,
   "id": "4fb1b78a",
   "metadata": {},
   "outputs": [
    {
     "ename": "RuntimeError",
     "evalue": "dot : expected both vectors to have same dtype, but found Float and Int",
     "output_type": "error",
     "traceback": [
      "\u001b[1;31m---------------------------------------------------------------------------\u001b[0m",
      "\u001b[1;31mRuntimeError\u001b[0m                              Traceback (most recent call last)",
      "\u001b[1;32m~\\AppData\\Local\\Temp\\ipykernel_11364\\228617127.py\u001b[0m in \u001b[0;36m<module>\u001b[1;34m\u001b[0m\n\u001b[1;32m----> 1\u001b[1;33m \u001b[0mtorch\u001b[0m\u001b[1;33m.\u001b[0m\u001b[0mmatmul\u001b[0m\u001b[1;33m(\u001b[0m\u001b[0mfloat_32_tensor\u001b[0m\u001b[1;33m,\u001b[0m \u001b[0mint_32_tensor\u001b[0m\u001b[1;33m)\u001b[0m\u001b[1;33m\u001b[0m\u001b[1;33m\u001b[0m\u001b[0m\n\u001b[0m",
      "\u001b[1;31mRuntimeError\u001b[0m: dot : expected both vectors to have same dtype, but found Float and Int"
     ]
    }
   ],
   "source": [
    "torch.matmul(float_32_tensor, int_32_tensor)"
   ]
  },
  {
   "cell_type": "code",
   "execution_count": 15,
   "id": "c31989c4",
   "metadata": {},
   "outputs": [
    {
     "ename": "RuntimeError",
     "evalue": "dot : expected both vectors to have same dtype, but found Float and Half",
     "output_type": "error",
     "traceback": [
      "\u001b[1;31m---------------------------------------------------------------------------\u001b[0m",
      "\u001b[1;31mRuntimeError\u001b[0m                              Traceback (most recent call last)",
      "\u001b[1;32m~\\AppData\\Local\\Temp\\ipykernel_11364\\2936022821.py\u001b[0m in \u001b[0;36m<module>\u001b[1;34m\u001b[0m\n\u001b[1;32m----> 1\u001b[1;33m \u001b[0mtorch\u001b[0m\u001b[1;33m.\u001b[0m\u001b[0mmatmul\u001b[0m\u001b[1;33m(\u001b[0m\u001b[0mfloat_32_tensor\u001b[0m\u001b[1;33m,\u001b[0m \u001b[0mint_32_tensor\u001b[0m\u001b[1;33m.\u001b[0m\u001b[0mtype\u001b[0m\u001b[1;33m(\u001b[0m\u001b[0mtorch\u001b[0m\u001b[1;33m.\u001b[0m\u001b[0mfloat16\u001b[0m\u001b[1;33m)\u001b[0m\u001b[1;33m)\u001b[0m\u001b[1;33m\u001b[0m\u001b[1;33m\u001b[0m\u001b[0m\n\u001b[0m",
      "\u001b[1;31mRuntimeError\u001b[0m: dot : expected both vectors to have same dtype, but found Float and Half"
     ]
    }
   ],
   "source": [
    "torch.matmul(float_32_tensor, int_32_tensor.type(torch.float16))"
   ]
  },
  {
   "cell_type": "code",
   "execution_count": 16,
   "id": "0db097e4",
   "metadata": {},
   "outputs": [
    {
     "data": {
      "text/plain": [
       "tensor(44.)"
      ]
     },
     "execution_count": 16,
     "metadata": {},
     "output_type": "execute_result"
    }
   ],
   "source": [
    "torch.matmul(float_32_tensor, int_32_tensor.type(torch.float32))"
   ]
  },
  {
   "cell_type": "markdown",
   "id": "02871626",
   "metadata": {},
   "source": [
    "# Aggregation function ALSO NEED CORRECT DTYPE"
   ]
  },
  {
   "cell_type": "code",
   "execution_count": 17,
   "id": "9e063717",
   "metadata": {},
   "outputs": [
    {
     "data": {
      "text/plain": [
       "tensor(6.2333)"
      ]
     },
     "execution_count": 17,
     "metadata": {},
     "output_type": "execute_result"
    }
   ],
   "source": [
    "torch.mean(float_32_tensor)"
   ]
  },
  {
   "cell_type": "code",
   "execution_count": 18,
   "id": "41236f48",
   "metadata": {},
   "outputs": [
    {
     "ename": "RuntimeError",
     "evalue": "mean(): could not infer output dtype. Input dtype must be either a floating point or complex dtype. Got: Int",
     "output_type": "error",
     "traceback": [
      "\u001b[1;31m---------------------------------------------------------------------------\u001b[0m",
      "\u001b[1;31mRuntimeError\u001b[0m                              Traceback (most recent call last)",
      "\u001b[1;32m~\\AppData\\Local\\Temp\\ipykernel_11364\\4180265025.py\u001b[0m in \u001b[0;36m<module>\u001b[1;34m\u001b[0m\n\u001b[1;32m----> 1\u001b[1;33m \u001b[0mtorch\u001b[0m\u001b[1;33m.\u001b[0m\u001b[0mmean\u001b[0m\u001b[1;33m(\u001b[0m\u001b[0mint_32_tensor\u001b[0m\u001b[1;33m)\u001b[0m\u001b[1;33m\u001b[0m\u001b[1;33m\u001b[0m\u001b[0m\n\u001b[0m",
      "\u001b[1;31mRuntimeError\u001b[0m: mean(): could not infer output dtype. Input dtype must be either a floating point or complex dtype. Got: Int"
     ]
    }
   ],
   "source": [
    "torch.mean(int_32_tensor)"
   ]
  },
  {
   "cell_type": "markdown",
   "id": "75b5bf89",
   "metadata": {},
   "source": [
    "# Position MIN MAX"
   ]
  },
  {
   "cell_type": "code",
   "execution_count": 19,
   "id": "326ca52c",
   "metadata": {},
   "outputs": [
    {
     "data": {
      "text/plain": [
       "tensor([[[7, 8],\n",
       "         [5, 6],\n",
       "         [1, 2]]])"
      ]
     },
     "execution_count": 19,
     "metadata": {},
     "output_type": "execute_result"
    }
   ],
   "source": [
    "TENSOR"
   ]
  },
  {
   "cell_type": "code",
   "execution_count": 20,
   "id": "16091ef5",
   "metadata": {},
   "outputs": [
    {
     "data": {
      "text/plain": [
       "tensor(4)"
      ]
     },
     "execution_count": 20,
     "metadata": {},
     "output_type": "execute_result"
    }
   ],
   "source": [
    "TENSOR.argmin()"
   ]
  },
  {
   "cell_type": "code",
   "execution_count": 21,
   "id": "84fbe9c3",
   "metadata": {},
   "outputs": [
    {
     "data": {
      "text/plain": [
       "tensor(1)"
      ]
     },
     "execution_count": 21,
     "metadata": {},
     "output_type": "execute_result"
    }
   ],
   "source": [
    "TENSOR.argmax()"
   ]
  },
  {
   "cell_type": "markdown",
   "id": "cc9fdef7",
   "metadata": {},
   "source": [
    "# Reshpaing, stacking, squeezing and unsqueezing"
   ]
  },
  {
   "cell_type": "markdown",
   "id": "f0b2e038",
   "metadata": {},
   "source": [
    "• Reshaping - reshapes an Input tensor to a defined shape\n",
    "\n",
    "• View - Return a view of an input tensor of certain shape but keep the same memory as the original tensor\n",
    "\n",
    "• Stacking - combine multiple tensors on top of each other (vstack) or side by side (hstack)\n",
    "\n",
    "• Squeeze - removes all 1 dimensions from a tensor\n",
    "\n",
    "• Unsqueeze - add a 1 dimension to a target tensor\n",
    "\n",
    "• Permute - Return a view of the input with dimensions permuted (swapped) in a certain way"
   ]
  },
  {
   "cell_type": "code",
   "execution_count": 22,
   "id": "0134725f",
   "metadata": {},
   "outputs": [
    {
     "data": {
      "text/plain": [
       "(tensor([[7, 8, 5],\n",
       "         [6, 1, 2]]),\n",
       " torch.Size([2, 3]))"
      ]
     },
     "execution_count": 22,
     "metadata": {},
     "output_type": "execute_result"
    }
   ],
   "source": [
    "x = TENSOR\n",
    "x_reshaped = x.reshape(2,3)\n",
    "x_reshaped, x_reshaped.shape"
   ]
  },
  {
   "cell_type": "code",
   "execution_count": 23,
   "id": "ad0673c6",
   "metadata": {},
   "outputs": [
    {
     "data": {
      "text/plain": [
       "(tensor([[7, 8, 5, 6, 1, 2]]), torch.Size([1, 6]))"
      ]
     },
     "execution_count": 23,
     "metadata": {},
     "output_type": "execute_result"
    }
   ],
   "source": [
    "x_reshaped = x.reshape(1,6)\n",
    "x_reshaped, x_reshaped.shape"
   ]
  },
  {
   "cell_type": "code",
   "execution_count": 24,
   "id": "839a945b",
   "metadata": {},
   "outputs": [
    {
     "data": {
      "text/plain": [
       "tensor([[[[7, 8],\n",
       "          [5, 6],\n",
       "          [1, 2]]],\n",
       "\n",
       "\n",
       "        [[[7, 8],\n",
       "          [5, 6],\n",
       "          [1, 2]]],\n",
       "\n",
       "\n",
       "        [[[7, 8],\n",
       "          [5, 6],\n",
       "          [1, 2]]]])"
      ]
     },
     "execution_count": 24,
     "metadata": {},
     "output_type": "execute_result"
    }
   ],
   "source": [
    "x_stacked = torch.stack([x,x,x], dim = 0) # horizontally\n",
    "x_stacked"
   ]
  },
  {
   "cell_type": "code",
   "execution_count": 25,
   "id": "78dc4736",
   "metadata": {},
   "outputs": [
    {
     "data": {
      "text/plain": [
       "tensor([[[[7, 8],\n",
       "          [5, 6],\n",
       "          [1, 2]],\n",
       "\n",
       "         [[7, 8],\n",
       "          [5, 6],\n",
       "          [1, 2]],\n",
       "\n",
       "         [[7, 8],\n",
       "          [5, 6],\n",
       "          [1, 2]]]])"
      ]
     },
     "execution_count": 25,
     "metadata": {},
     "output_type": "execute_result"
    }
   ],
   "source": [
    "x_stacked = torch.stack([x,x,x], dim = 1) # vertically\n",
    "x_stacked"
   ]
  },
  {
   "cell_type": "code",
   "execution_count": 26,
   "id": "2146d001",
   "metadata": {},
   "outputs": [
    {
     "data": {
      "text/plain": [
       "tensor([[[[7, 8],\n",
       "          [7, 8],\n",
       "          [7, 8]],\n",
       "\n",
       "         [[5, 6],\n",
       "          [5, 6],\n",
       "          [5, 6]],\n",
       "\n",
       "         [[1, 2],\n",
       "          [1, 2],\n",
       "          [1, 2]]]])"
      ]
     },
     "execution_count": 26,
     "metadata": {},
     "output_type": "execute_result"
    }
   ],
   "source": [
    "x_stacked = torch.stack([x,x,x], dim = 2) # vertically inside\n",
    "x_stacked"
   ]
  },
  {
   "cell_type": "code",
   "execution_count": 27,
   "id": "22fc5093",
   "metadata": {},
   "outputs": [
    {
     "data": {
      "text/plain": [
       "tensor([[[[7, 7, 7],\n",
       "          [8, 8, 8]],\n",
       "\n",
       "         [[5, 5, 5],\n",
       "          [6, 6, 6]],\n",
       "\n",
       "         [[1, 1, 1],\n",
       "          [2, 2, 2]]]])"
      ]
     },
     "execution_count": 27,
     "metadata": {},
     "output_type": "execute_result"
    }
   ],
   "source": [
    "x_stacked = torch.stack([x,x,x], dim = 3) # horizontaly inside\n",
    "x_stacked"
   ]
  },
  {
   "cell_type": "code",
   "execution_count": 28,
   "id": "4000ce22",
   "metadata": {},
   "outputs": [
    {
     "data": {
      "text/plain": [
       "tensor([[7, 8],\n",
       "        [5, 6],\n",
       "        [1, 2]])"
      ]
     },
     "execution_count": 28,
     "metadata": {},
     "output_type": "execute_result"
    }
   ],
   "source": [
    "x_squeezed = torch.squeeze(x)\n",
    "x_squeezed"
   ]
  },
  {
   "cell_type": "code",
   "execution_count": 29,
   "id": "01af1258",
   "metadata": {},
   "outputs": [
    {
     "data": {
      "text/plain": [
       "(tensor([[7, 8, 5, 6, 1, 2]]), torch.Size([1, 6]))"
      ]
     },
     "execution_count": 29,
     "metadata": {},
     "output_type": "execute_result"
    }
   ],
   "source": [
    "x_reshaped, x_reshaped.shape"
   ]
  },
  {
   "cell_type": "code",
   "execution_count": 30,
   "id": "08448012",
   "metadata": {},
   "outputs": [
    {
     "data": {
      "text/plain": [
       "(tensor([7, 8, 5, 6, 1, 2]), torch.Size([6]))"
      ]
     },
     "execution_count": 30,
     "metadata": {},
     "output_type": "execute_result"
    }
   ],
   "source": [
    "x_reshaped.squeeze(), x_reshaped.squeeze().shape"
   ]
  },
  {
   "cell_type": "code",
   "execution_count": 31,
   "id": "1afb95b0",
   "metadata": {},
   "outputs": [
    {
     "data": {
      "text/plain": [
       "tensor([[[7, 8],\n",
       "         [5, 6],\n",
       "         [1, 2]]])"
      ]
     },
     "execution_count": 31,
     "metadata": {},
     "output_type": "execute_result"
    }
   ],
   "source": [
    "x"
   ]
  },
  {
   "cell_type": "code",
   "execution_count": 32,
   "id": "6fc8a30c",
   "metadata": {},
   "outputs": [
    {
     "data": {
      "text/plain": [
       "tensor([[[7, 5, 1]],\n",
       "\n",
       "        [[8, 6, 2]]])"
      ]
     },
     "execution_count": 32,
     "metadata": {},
     "output_type": "execute_result"
    }
   ],
   "source": [
    "x_permuted = torch.permute(x, (2,0,1))\n",
    "x_permuted"
   ]
  },
  {
   "cell_type": "markdown",
   "id": "7070ec43",
   "metadata": {},
   "source": [
    "# Indexing"
   ]
  },
  {
   "cell_type": "code",
   "execution_count": 33,
   "id": "578cc48c",
   "metadata": {},
   "outputs": [
    {
     "data": {
      "text/plain": [
       "(tensor([[[1, 2, 3],\n",
       "          [4, 5, 6],\n",
       "          [7, 8, 9]]]),\n",
       " torch.Size([1, 3, 3]))"
      ]
     },
     "execution_count": 33,
     "metadata": {},
     "output_type": "execute_result"
    }
   ],
   "source": [
    "x = torch.arange(1,10).reshape(1,3,3)\n",
    "x, x.shape"
   ]
  },
  {
   "cell_type": "code",
   "execution_count": 34,
   "id": "c2efd37b",
   "metadata": {},
   "outputs": [
    {
     "data": {
      "text/plain": [
       "tensor([1, 2, 3])"
      ]
     },
     "execution_count": 34,
     "metadata": {},
     "output_type": "execute_result"
    }
   ],
   "source": [
    "# Index on middle bracket (dim = 1)\n",
    "x[0,0]"
   ]
  },
  {
   "cell_type": "code",
   "execution_count": 35,
   "id": "d1aae775",
   "metadata": {},
   "outputs": [
    {
     "data": {
      "text/plain": [
       "tensor(1)"
      ]
     },
     "execution_count": 35,
     "metadata": {},
     "output_type": "execute_result"
    }
   ],
   "source": [
    "# Index on last bracket (dim = -1)\n",
    "x[0][0][0]"
   ]
  },
  {
   "cell_type": "code",
   "execution_count": 36,
   "id": "e6076739",
   "metadata": {},
   "outputs": [
    {
     "data": {
      "text/plain": [
       "tensor([[4, 5, 6]])"
      ]
     },
     "execution_count": 36,
     "metadata": {},
     "output_type": "execute_result"
    }
   ],
   "source": [
    "x[:,1,:]"
   ]
  },
  {
   "cell_type": "code",
   "execution_count": 37,
   "id": "80eb1bb3",
   "metadata": {},
   "outputs": [
    {
     "data": {
      "text/plain": [
       "tensor([[2, 5, 8]])"
      ]
     },
     "execution_count": 37,
     "metadata": {},
     "output_type": "execute_result"
    }
   ],
   "source": [
    "x[:,:,1]"
   ]
  },
  {
   "cell_type": "code",
   "execution_count": 38,
   "id": "d88915b0",
   "metadata": {},
   "outputs": [
    {
     "ename": "IndexError",
     "evalue": "index 1 is out of bounds for dimension 0 with size 1",
     "output_type": "error",
     "traceback": [
      "\u001b[1;31m---------------------------------------------------------------------------\u001b[0m",
      "\u001b[1;31mIndexError\u001b[0m                                Traceback (most recent call last)",
      "\u001b[1;32m~\\AppData\\Local\\Temp\\ipykernel_11364\\1891544302.py\u001b[0m in \u001b[0;36m<module>\u001b[1;34m\u001b[0m\n\u001b[1;32m----> 1\u001b[1;33m \u001b[0mx\u001b[0m\u001b[1;33m[\u001b[0m\u001b[1;33m:\u001b[0m\u001b[1;33m]\u001b[0m\u001b[1;33m[\u001b[0m\u001b[1;33m:\u001b[0m\u001b[1;33m]\u001b[0m\u001b[1;33m[\u001b[0m\u001b[1;36m1\u001b[0m\u001b[1;33m]\u001b[0m\u001b[1;33m\u001b[0m\u001b[1;33m\u001b[0m\u001b[0m\n\u001b[0m",
      "\u001b[1;31mIndexError\u001b[0m: index 1 is out of bounds for dimension 0 with size 1"
     ]
    }
   ],
   "source": [
    "x[:][:][1]"
   ]
  },
  {
   "cell_type": "markdown",
   "id": "6f72b298",
   "metadata": {},
   "source": [
    "# Switch to GPU"
   ]
  },
  {
   "cell_type": "code",
   "execution_count": 39,
   "id": "3e4a1a1b",
   "metadata": {},
   "outputs": [
    {
     "data": {
      "text/plain": [
       "'cuda'"
      ]
     },
     "execution_count": 39,
     "metadata": {},
     "output_type": "execute_result"
    }
   ],
   "source": [
    "device = \"cuda\" if torch.cuda.is_available() else \"cpu\"\n",
    "device"
   ]
  },
  {
   "cell_type": "code",
   "execution_count": 40,
   "id": "9c2b7372",
   "metadata": {},
   "outputs": [
    {
     "name": "stdout",
     "output_type": "stream",
     "text": [
      "1\n"
     ]
    }
   ],
   "source": [
    "if torch.cuda.is_available():\n",
    "    print (torch.cuda.device_count())"
   ]
  },
  {
   "cell_type": "code",
   "execution_count": 41,
   "id": "6f1eba78",
   "metadata": {},
   "outputs": [
    {
     "name": "stdout",
     "output_type": "stream",
     "text": [
      "tensor([1, 2, 3], device='cuda:0') cuda:0\n"
     ]
    }
   ],
   "source": [
    "tensor = torch.tensor ([1,2,3], device = device)\n",
    "\n",
    "print (tensor, tensor.device)"
   ]
  },
  {
   "cell_type": "code",
   "execution_count": 42,
   "id": "f5c382f7",
   "metadata": {},
   "outputs": [
    {
     "name": "stdout",
     "output_type": "stream",
     "text": [
      "tensor([1, 2, 3], device='cuda:0') cpu\n",
      "tensor([1, 2, 3], device='cuda:0') cuda:0\n"
     ]
    }
   ],
   "source": [
    "print (tensor, tensor.to(\"cpu\").device)\n",
    "\n",
    "print (tensor, tensor.device)"
   ]
  },
  {
   "cell_type": "code",
   "execution_count": 43,
   "id": "9200d8b8",
   "metadata": {},
   "outputs": [
    {
     "name": "stdout",
     "output_type": "stream",
     "text": [
      "CPU:  [1 2 3]\n"
     ]
    },
    {
     "ename": "TypeError",
     "evalue": "can't convert cuda:0 device type tensor to numpy. Use Tensor.cpu() to copy the tensor to host memory first.",
     "output_type": "error",
     "traceback": [
      "\u001b[1;31m---------------------------------------------------------------------------\u001b[0m",
      "\u001b[1;31mTypeError\u001b[0m                                 Traceback (most recent call last)",
      "\u001b[1;32m~\\AppData\\Local\\Temp\\ipykernel_11364\\3135912210.py\u001b[0m in \u001b[0;36m<module>\u001b[1;34m\u001b[0m\n\u001b[0;32m      1\u001b[0m \u001b[0mprint\u001b[0m \u001b[1;33m(\u001b[0m\u001b[1;34m\"CPU: \"\u001b[0m\u001b[1;33m,\u001b[0m \u001b[0mtensor\u001b[0m\u001b[1;33m.\u001b[0m\u001b[0mto\u001b[0m\u001b[1;33m(\u001b[0m\u001b[1;34m\"cpu\"\u001b[0m\u001b[1;33m)\u001b[0m\u001b[1;33m.\u001b[0m\u001b[0mnumpy\u001b[0m\u001b[1;33m(\u001b[0m\u001b[1;33m)\u001b[0m\u001b[1;33m)\u001b[0m\u001b[1;33m\u001b[0m\u001b[1;33m\u001b[0m\u001b[0m\n\u001b[0;32m      2\u001b[0m \u001b[1;33m\u001b[0m\u001b[0m\n\u001b[1;32m----> 3\u001b[1;33m \u001b[0mprint\u001b[0m \u001b[1;33m(\u001b[0m\u001b[1;34m\"GPU\"\u001b[0m\u001b[1;33m,\u001b[0m \u001b[0mtensor\u001b[0m\u001b[1;33m.\u001b[0m\u001b[0mnumpy\u001b[0m\u001b[1;33m(\u001b[0m\u001b[1;33m)\u001b[0m\u001b[1;33m)\u001b[0m\u001b[1;33m\u001b[0m\u001b[1;33m\u001b[0m\u001b[0m\n\u001b[0m",
      "\u001b[1;31mTypeError\u001b[0m: can't convert cuda:0 device type tensor to numpy. Use Tensor.cpu() to copy the tensor to host memory first."
     ]
    }
   ],
   "source": [
    "print (\"CPU: \", tensor.to(\"cpu\").numpy())\n",
    "\n",
    "print (\"GPU\", tensor.numpy())"
   ]
  },
  {
   "cell_type": "markdown",
   "id": "673faef0",
   "metadata": {},
   "source": [
    "# Linear Reg"
   ]
  },
  {
   "cell_type": "code",
   "execution_count": 44,
   "id": "e5def13a",
   "metadata": {},
   "outputs": [
    {
     "data": {
      "text/plain": [
       "(tensor([[0.0000],\n",
       "         [0.0200],\n",
       "         [0.0400],\n",
       "         [0.0600],\n",
       "         [0.0800],\n",
       "         [0.1000],\n",
       "         [0.1200],\n",
       "         [0.1400],\n",
       "         [0.1600],\n",
       "         [0.1800]]),\n",
       " tensor([[0.3000],\n",
       "         [0.3140],\n",
       "         [0.3280],\n",
       "         [0.3420],\n",
       "         [0.3560],\n",
       "         [0.3700],\n",
       "         [0.3840],\n",
       "         [0.3980],\n",
       "         [0.4120],\n",
       "         [0.4260]]))"
      ]
     },
     "execution_count": 44,
     "metadata": {},
     "output_type": "execute_result"
    }
   ],
   "source": [
    "weight = 0.7\n",
    "bias = 0.3\n",
    "\n",
    "# Create\n",
    "start = 0\n",
    "end = 1\n",
    "step = 0.02\n",
    "\n",
    "X = torch.arange(start,end, step).unsqueeze(dim=1)\n",
    "y = weight * X + bias\n",
    "\n",
    "X[:10], y[:10]"
   ]
  },
  {
   "cell_type": "code",
   "execution_count": 45,
   "id": "18265e63",
   "metadata": {},
   "outputs": [
    {
     "data": {
      "text/plain": [
       "[<matplotlib.lines.Line2D at 0x208692752e0>]"
      ]
     },
     "execution_count": 45,
     "metadata": {},
     "output_type": "execute_result"
    },
    {
     "data": {
      "image/png": "[encoded data removed]",
      "text/plain": [
       "<Figure size 640x480 with 1 Axes>"
      ]
     },
     "metadata": {},
     "output_type": "display_data"
    }
   ],
   "source": [
    "plt.plot(X,y, 'o', color='red')"
   ]
  },
  {
   "cell_type": "code",
   "execution_count": 46,
   "id": "ae080cca",
   "metadata": {},
   "outputs": [
    {
     "data": {
      "text/plain": [
       "(tensor([[0.2600],\n",
       "         [0.0000],\n",
       "         [0.6000]]),\n",
       " tensor([[0.4820],\n",
       "         [0.3000],\n",
       "         [0.7200]]))"
      ]
     },
     "execution_count": 46,
     "metadata": {},
     "output_type": "execute_result"
    }
   ],
   "source": [
    "from sklearn.model_selection import train_test_split\n",
    "\n",
    "train_split = int(0.8 * len(X))\n",
    "X_train, X_test, y_train, y_test = train_test_split(X,y, train_size = train_split, random_state = 69)\n",
    "\n",
    "X_train[:3], y_train[:3]"
   ]
  },
  {
   "cell_type": "code",
   "execution_count": 47,
   "id": "c3a9e063",
   "metadata": {},
   "outputs": [
    {
     "data": {
      "image/png": "[encoded data removed]",
      "text/plain": [
       "<Figure size 1000x700 with 1 Axes>"
      ]
     },
     "metadata": {},
     "output_type": "display_data"
    }
   ],
   "source": [
    "def plot_prediction(train_data = X_train,\n",
    "                    train_labels = y_train,\n",
    "                    test_data = X_test,\n",
    "                    test_labels = y_test,\n",
    "                    predictions = None ):\n",
    "    \"Plots training data, test data and compares predictions.\"\n",
    "    plt.figure(figsize = (10,7))\n",
    "    \n",
    "    # Plot training data in blue\n",
    "    plt.scatter(train_data, train_labels, c=\"b\", label = \"Training data\")\n",
    "    \n",
    "    # Plot test data in green\n",
    "    plt.scatter(test_data, test_labels, c=\"g\", label = \"Test data\")\n",
    "    \n",
    "    # Are there predictions?\n",
    "    if predictions is not None:\n",
    "        #Plot the predictions if they exist\n",
    "        plt.scatter(test_data, predictions, c=\"r\", label = \"Prediction data\")\n",
    "        \n",
    "    plt.legend(prop={\"size\": 14})\n",
    "    \n",
    "plot_prediction()"
   ]
  },
  {
   "cell_type": "code",
   "execution_count": 62,
   "id": "bda9d7b2",
   "metadata": {},
   "outputs": [],
   "source": [
    "from torch import nn\n",
    "\n",
    "# Linear reg model\n",
    "class LinearRegression(nn.Module):\n",
    "    def __init__(self):\n",
    "        super().__init__()\n",
    "        self.weights = nn.Parameter(torch.randn(1,\n",
    "                                              requires_grad = True,\n",
    "                                              dtype = torch.float))\n",
    "        self.bias = nn.Parameter(torch.randn(1,\n",
    "                                           requires_grad = True,\n",
    "                                           dtype = torch.float))\n",
    "        \n",
    "    def forward (self, x:torch.Tensor) -> torch.Tensor:\n",
    "        return self.weights * x + self.bias"
   ]
  },
  {
   "cell_type": "markdown",
   "id": "7b2751f5",
   "metadata": {},
   "source": [
    "# PyTorch model building essentials"
   ]
  },
  {
   "cell_type": "markdown",
   "id": "0e1f5307",
   "metadata": {},
   "source": [
    "\n",
    "• torch.nn - contains all of the buildings for computational graphs (a neural network can be considered a computational graph)\n",
    "\n",
    "• torch.nn.Parameter - what parameters should our model try and learn, often a PyTorch layer from torch.nn will set these for us\n",
    "\n",
    "• torch.nn.Module - The base class for all neural network modules, if you subclass it, you should overwrite forward()\n",
    "\n",
    "• torch.optim - this where the optimizers in PyTorch live, they will help with gradient descent\n",
    "\n",
    "• def forward() - All nn.Module subclasses require you to overwrite forward(), this method defines what happens in the forward computation"
   ]
  },
  {
   "cell_type": "code",
   "execution_count": 167,
   "id": "67c18d01",
   "metadata": {},
   "outputs": [
    {
     "data": {
      "text/plain": [
       "[Parameter containing:\n",
       " tensor([-0.5259], requires_grad=True),\n",
       " Parameter containing:\n",
       " tensor([-2.6043], requires_grad=True)]"
      ]
     },
     "execution_count": 167,
     "metadata": {},
     "output_type": "execute_result"
    }
   ],
   "source": [
    "torch.manual_seed(69)\n",
    "\n",
    "model_0 = LinearRegression()\n",
    "\n",
    "list(model_0.parameters())"
   ]
  },
  {
   "cell_type": "markdown",
   "id": "2aeebffd",
   "metadata": {},
   "source": [
    "# Inference_mode() --> turn off gradient tracking --> test with faster result"
   ]
  },
  {
   "cell_type": "markdown",
   "id": "bc318caf",
   "metadata": {},
   "source": [
    "no_grads() do the same thing, but inference_mode is preferred"
   ]
  },
  {
   "cell_type": "code",
   "execution_count": 146,
   "id": "06427d82",
   "metadata": {},
   "outputs": [
    {
     "data": {
      "text/plain": [
       "tensor([[-2.6463],\n",
       "        [-2.9619],\n",
       "        [-2.7094],\n",
       "        [-2.8041],\n",
       "        [-2.6884],\n",
       "        [-2.6148],\n",
       "        [-2.7936],\n",
       "        [-3.0986],\n",
       "        [-3.0250],\n",
       "        [-3.0671]])"
      ]
     },
     "execution_count": 146,
     "metadata": {},
     "output_type": "execute_result"
    }
   ],
   "source": [
    "with torch.inference_mode():\n",
    "    y_preds = model_0(X_test)\n",
    "    \n",
    "y_preds"
   ]
  },
  {
   "cell_type": "code",
   "execution_count": 131,
   "id": "5b598d81",
   "metadata": {},
   "outputs": [
    {
     "data": {
      "text/plain": [
       "tensor([[0.3560],\n",
       "        [0.7760],\n",
       "        [0.4400],\n",
       "        [0.5660],\n",
       "        [0.4120],\n",
       "        [0.3140],\n",
       "        [0.5520],\n",
       "        [0.9580],\n",
       "        [0.8600],\n",
       "        [0.9160]])"
      ]
     },
     "execution_count": 131,
     "metadata": {},
     "output_type": "execute_result"
    }
   ],
   "source": [
    "y_test"
   ]
  },
  {
   "cell_type": "code",
   "execution_count": 147,
   "id": "ddbb82d1",
   "metadata": {},
   "outputs": [
    {
     "data": {
      "image/png": "[encoded data removed]",
      "text/plain": [
       "<Figure size 1000x700 with 1 Axes>"
      ]
     },
     "metadata": {},
     "output_type": "display_data"
    }
   ],
   "source": [
    "plot_prediction(predictions=y_preds)"
   ]
  },
  {
   "cell_type": "code",
   "execution_count": 168,
   "id": "9a6e87b0",
   "metadata": {},
   "outputs": [],
   "source": [
    "loss_fn = nn.L1Loss()\n",
    "\n",
    "# SGD performs much better than Adam in this case\n",
    "optimizer = torch.optim.SGD(model_0.parameters(), lr=0.01)"
   ]
  },
  {
   "cell_type": "code",
   "execution_count": 171,
   "id": "09d6b393",
   "metadata": {},
   "outputs": [
    {
     "name": "stdout",
     "output_type": "stream",
     "text": [
      "Epoch:  0 Training loss:  1.0172165632247925  . Test loss:  0.9936720132827759\n",
      "Epoch:  10 Training loss:  0.892216682434082  . Test loss:  0.8711721301078796\n",
      "Epoch:  20 Training loss:  0.7672168016433716  . Test loss:  0.7486722469329834\n",
      "Epoch:  30 Training loss:  0.6422169208526611  . Test loss:  0.6261723041534424\n",
      "Epoch:  40 Training loss:  0.5172169804573059  . Test loss:  0.5036724209785461\n",
      "Epoch:  50 Training loss:  0.3922169506549835  . Test loss:  0.3811723589897156\n",
      "Epoch:  60 Training loss:  0.2672169804573059  . Test loss:  0.25867241621017456\n",
      "Epoch:  70 Training loss:  0.14221704006195068  . Test loss:  0.13617247343063354\n",
      "Epoch:  80 Training loss:  0.046201035380363464  . Test loss:  0.056723304092884064\n",
      "Epoch:  90 Training loss:  0.03729478642344475  . Test loss:  0.04982960969209671\n"
     ]
    },
    {
     "data": {
      "text/plain": [
       "OrderedDict([('weights', tensor([0.8383])), ('bias', tensor([0.2227]))])"
      ]
     },
     "execution_count": 171,
     "metadata": {},
     "output_type": "execute_result"
    }
   ],
   "source": [
    "epochs = 100\n",
    "\n",
    "# BASIC MODEL!!!!!!!!!!!!!!!!!!!!!!!!!!!!!!!!!!!!!!!!!!!!!!!!!!!!!!!!!!!!!!!!!!!!!!!!!!!!!!!!!!!!!!!!!!!\n",
    "for epoch in range(epochs):\n",
    "    # TRAIN\n",
    "    model_0.train()\n",
    "    \n",
    "    # Forward pass\n",
    "    y_pred = model_0(X_train)\n",
    "    \n",
    "    # Loss\n",
    "    loss = loss_fn(y_pred, y_train)\n",
    "    \n",
    "    # optimizer\n",
    "    optimizer.zero_grad()\n",
    "    \n",
    "    # Backpropagation\n",
    "    loss.backward()\n",
    "    \n",
    "    # Gradient descent\n",
    "    optimizer.step()\n",
    "    \n",
    "    #----------------------------------------------------------\n",
    "    \n",
    "    # TEST\n",
    "    model_0.eval()\n",
    "    \n",
    "    \n",
    "    with torch.inference_mode():\n",
    "        # forward pass\n",
    "        y_test_pred = model_0(X_test)\n",
    "\n",
    "        # loss\n",
    "        test_loss = loss_fn(y_test_pred, y_test)\n",
    "        \n",
    "    if (epoch % 10 == 0):\n",
    "        print (\"Epoch: \", epoch, \"Training loss: \", loss.item(), \" . Test loss: \", test_loss.item())\n",
    "    \n",
    "model_0.state_dict()"
   ]
  },
  {
   "cell_type": "code",
   "execution_count": 91,
   "id": "1dc86f84",
   "metadata": {},
   "outputs": [
    {
     "data": {
      "text/plain": [
       "(0.7, 0.3)"
      ]
     },
     "execution_count": 91,
     "metadata": {},
     "output_type": "execute_result"
    }
   ],
   "source": [
    "weight, bias"
   ]
  },
  {
   "cell_type": "code",
   "execution_count": 172,
   "id": "c53aa2bc",
   "metadata": {},
   "outputs": [
    {
     "data": {
      "image/png": "[encoded data removed]",
      "text/plain": [
       "<Figure size 1000x700 with 1 Axes>"
      ]
     },
     "metadata": {},
     "output_type": "display_data"
    }
   ],
   "source": [
    "with torch.inference_mode():\n",
    "    y_preds_new = model_0(X_test)\n",
    "\n",
    "plot_prediction(predictions= y_preds_new)"
   ]
  },
  {
   "cell_type": "markdown",
   "id": "1053c1e8",
   "metadata": {},
   "source": [
    "# Neural Network"
   ]
  },
  {
   "cell_type": "code",
   "execution_count": 174,
   "id": "fd941e91",
   "metadata": {},
   "outputs": [],
   "source": [
    "class FashionMNISTModelV2 (nn.Module):\n",
    "    def __init__(self, input_shape: int, hidden_units: int, output_shape: int):\n",
    "        super().__init__()\n",
    "        self.conv_block_1 = nn.Sequential (\n",
    "            nn.Conv2d(in_channels = input_shape,\n",
    "                     out_channels = hidden_units,\n",
    "                     kernel_size = 3,\n",
    "                     stride = 1,\n",
    "                     padding = 1),\n",
    "            nn.ReLU(),\n",
    "            nn.Conv2d(in_channels = hidden_units,\n",
    "                     out_channels = hidden_units,\n",
    "                     kernel_size = 3,\n",
    "                     stride = 1,\n",
    "                     padding = 1),\n",
    "            nn.ReLU(),\n",
    "            nn.MaxPool2d(kernel_size = 2)\n",
    "        )\n",
    "        \n",
    "        self.conv_block_2 = nn.Sequential (\n",
    "            nn.Conv2d(in_channels = hidden_units,\n",
    "                     out_channels = hidden_units,\n",
    "                     kernel_size = 3,\n",
    "                     stride = 1,\n",
    "                     padding = 1),\n",
    "            nn.ReLU(),\n",
    "            nn.Conv2d(in_channels = hidden_units,\n",
    "                     out_channels = hidden_units,\n",
    "                     kernel_size = 3,\n",
    "                     stride = 1,\n",
    "                     padding = 1),\n",
    "            nn.ReLU(),\n",
    "            nn.MaxPool2d(kernel_size = 2)\n",
    "        )\n",
    "        \n",
    "        self.classifier = nn.Sequential(\n",
    "            nn.Flatten(),\n",
    "            nn.Linear(in_features = hidden_units*0, # This in_features can be tricky\n",
    "                     output_features = output_shape)\n",
    "        )\n",
    "        \n",
    "    def foward(self, x):\n",
    "        x = self.conv_block_1(x)\n",
    "        print (x.shape)\n",
    "        x = self.conv_block_2(x)\n",
    "        print (x.shape)\n",
    "        x = self.classifier(x)\n",
    "        \n",
    "        return x"
   ]
  },
  {
   "cell_type": "code",
   "execution_count": null,
   "id": "625c897c",
   "metadata": {},
   "outputs": [],
   "source": [
    "torch.manual_seed(69)\n",
    "model_1 = FashionMNISTModelV2(input_shape = 1,\n",
    "                             hidden_unit = 10,\n",
    "                             output_shape = len(class_names).to(device))"
   ]
  }
 ],
 "metadata": {
  "kernelspec": {
   "display_name": "Python 3 (ipykernel)",
   "language": "python",
   "name": "python3"
  },
  "language_info": {
   "codemirror_mode": {
    "name": "ipython",
    "version": 3
   },
   "file_extension": ".py",
   "mimetype": "text/x-python",
   "name": "python",
   "nbconvert_exporter": "python",
   "pygments_lexer": "ipython3",
   "version": "3.9.13"
  }
 },
 "nbformat": 4,
 "nbformat_minor": 5
}
